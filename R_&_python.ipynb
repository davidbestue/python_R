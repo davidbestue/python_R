{
 "cells": [
  {
   "cell_type": "markdown",
   "metadata": {},
   "source": [
    "## Use of R"
   ]
  },
  {
   "cell_type": "code",
   "execution_count": null,
   "metadata": {},
   "outputs": [],
   "source": [
    "##Python libraries needed\n",
    "from linares_plot import *"
   ]
  },
  {
   "cell_type": "code",
   "execution_count": 82,
   "metadata": {},
   "outputs": [
    {
     "data": {
      "text/plain": [
       "rpy2.robjects.packages.Package as a <module 'lme4'>"
      ]
     },
     "execution_count": 82,
     "metadata": {},
     "output_type": "execute_result"
    }
   ],
   "source": [
    "### Libraries to run R\n",
    "import rpy2.rinterface\n",
    "%load_ext rpy2.ipython\n",
    "\n",
    "##Libraries if you need lme4 (mixed models) - standard lm is in the standard r packages.\n",
    "import rpy2.robjects.packages as rpackages\n",
    "rpackages.importr('lme4')\n"
   ]
  },
  {
   "cell_type": "code",
   "execution_count": null,
   "metadata": {},
   "outputs": [],
   "source": [
    "###### Example to install R libraries from the jupyter notebook terminal\n",
    "#\n",
    "#import rpy2.robjects as robjects\n",
    "#import rpy2.robjects.packages as rpackages\n",
    "#from rpy2.robjects.vectors import StrVector\n",
    "#\n",
    "# package_names = ('afex', 'emmeans', 'lme4')\n",
    "# if all(rpackages.isinstalled(x) for x in package_names):\n",
    "#     have_package=True\n",
    "# else:\n",
    "#     have_package=False\n",
    "    \n",
    "# if not have_package:\n",
    "    \n",
    "#     utils=rpackages.importr('utils')\n",
    "#     utils.chooseCRANmirror(ind=1)\n",
    "    \n",
    "#     packnames_to_install = [x for x in package_names if not rpackages.isinstalled(x)]\n",
    "    \n",
    "#     if len(packnames_to_install) >0:\n",
    "#         utils.install_packages(StrVector(packnames_to_install))"
   ]
  },
  {
   "cell_type": "markdown",
   "metadata": {},
   "source": [
    "## LM"
   ]
  },
  {
   "cell_type": "markdown",
   "metadata": {},
   "source": [
    "Create a dataframe with python"
   ]
  },
  {
   "cell_type": "code",
   "execution_count": 107,
   "metadata": {},
   "outputs": [],
   "source": [
    "python_df= pd.DataFrame({'A':[1,2,3,44], 'B':[3,5,6,88]})"
   ]
  },
  {
   "cell_type": "code",
   "execution_count": 108,
   "metadata": {},
   "outputs": [
    {
     "name": "stderr",
     "output_type": "stream",
     "text": [
      "C:\\Users\\David\\Anaconda3\\envs\\python3\\lib\\site-packages\\rpy2-2.9.4-py3.5-win-amd64.egg\\rpy2\\robjects\\pandas2ri.py:191: FutureWarning: from_items is deprecated. Please use DataFrame.from_dict(dict(items), ...) instead. DataFrame.from_dict(OrderedDict(items)) may be used to preserve the key order.\n",
      "  res = PandasDataFrame.from_items(items)\n"
     ]
    }
   ],
   "source": [
    "%%R -o model -o summary -i python_df \n",
    "\n",
    "model <- lm(A~B, data=python_df)\n",
    "summary <- summary(model)"
   ]
  },
  {
   "cell_type": "code",
   "execution_count": 109,
   "metadata": {},
   "outputs": [
    {
     "name": "stdout",
     "output_type": "stream",
     "text": [
      "\n",
      "\r\n",
      "Call:\n",
      "\r\n",
      "lm(formula = A ~ B, data = python_df)\n",
      "\r\n",
      "\n",
      "\r\n",
      "Residuals:\n",
      "\r\n",
      "        0         1         2         3 \n",
      "\r\n",
      "-0.157203 -0.165452  0.330424 -0.007769 \n",
      "\r\n",
      "\n",
      "\r\n",
      "Coefficients:\n",
      "\r\n",
      "             Estimate Std. Error t value Pr(>|t|)    \n",
      "\r\n",
      "(Intercept) -0.355170   0.173861  -2.043    0.178    \n",
      "\r\n",
      "B            0.504124   0.003934 128.157 6.09e-05 ***\n",
      "\r\n",
      "---\n",
      "\r\n",
      "Signif. codes:  0 '***' 0.001 '**' 0.01 '*' 0.05 '.' 0.1 ' ' 1\n",
      "\r\n",
      "\n",
      "\r\n",
      "Residual standard error: 0.284 on 2 degrees of freedom\n",
      "\r\n",
      "Multiple R-squared:  0.9999,\tAdjusted R-squared:  0.9998 \n",
      "\r\n",
      "F-statistic: 1.642e+04 on 1 and 2 DF,  p-value: 6.088e-05\n",
      "\r\n",
      "\n",
      "\n"
     ]
    }
   ],
   "source": [
    "print(summary)"
   ]
  },
  {
   "cell_type": "code",
   "execution_count": 110,
   "metadata": {},
   "outputs": [
    {
     "name": "stdout",
     "output_type": "stream",
     "text": [
      "                            OLS Regression Results                            \n",
      "==============================================================================\n",
      "Dep. Variable:                      A   R-squared:                       1.000\n",
      "Model:                            OLS   Adj. R-squared:                  1.000\n",
      "Method:                 Least Squares   F-statistic:                 1.642e+04\n",
      "Date:                Thu, 11 Jul 2019   Prob (F-statistic):           6.09e-05\n",
      "Time:                        12:59:12   Log-Likelihood:                0.74547\n",
      "No. Observations:                   4   AIC:                             2.509\n",
      "Df Residuals:                       2   BIC:                             1.282\n",
      "Df Model:                           1                                         \n",
      "Covariance Type:            nonrobust                                         \n",
      "==============================================================================\n",
      "                 coef    std err          t      P>|t|      [0.025      0.975]\n",
      "------------------------------------------------------------------------------\n",
      "Intercept     -0.3552      0.174     -2.043      0.178      -1.103       0.393\n",
      "B              0.5041      0.004    128.157      0.000       0.487       0.521\n",
      "==============================================================================\n",
      "Omnibus:                          nan   Durbin-Watson:                   2.234\n",
      "Prob(Omnibus):                    nan   Jarque-Bera (JB):                0.639\n",
      "Skew:                           0.854   Prob(JB):                        0.726\n",
      "Kurtosis:                       2.041   Cond. No.                         54.1\n",
      "==============================================================================\n",
      "\n",
      "Warnings:\n",
      "[1] Standard Errors assume that the covariance matrix of the errors is correctly specified.\n"
     ]
    },
    {
     "name": "stderr",
     "output_type": "stream",
     "text": [
      "C:\\Users\\David\\Anaconda3\\envs\\python3\\lib\\site-packages\\statsmodels\\stats\\stattools.py:72: ValueWarning: omni_normtest is not valid with less than 8 observations; 4 samples were given.\n",
      "  \"samples were given.\" % int(n), ValueWarning)\n"
     ]
    }
   ],
   "source": [
    "import statsmodels.formula.api as smf\n",
    "m = smf.ols('A ~ B', python_df).fit()\n",
    "print(m.summary())"
   ]
  },
  {
   "cell_type": "markdown",
   "metadata": {},
   "source": [
    "## Mixed Linear model"
   ]
  },
  {
   "cell_type": "markdown",
   "metadata": {},
   "source": [
    "Create a dataframe with python"
   ]
  },
  {
   "cell_type": "code",
   "execution_count": 111,
   "metadata": {},
   "outputs": [],
   "source": [
    "python_df2= pd.DataFrame({'A':[1,0,1,1,1,1,0,0,0,0,0,1,1,1,0,0,0,1,1,1,1,1,0,0,1],\n",
    "                          'A2':[1,4,5,6,4,7,6,5,6,8,3,4,2,2,2,1,1,6,7,8,9,0,3,2,2],\n",
    "                         'B':[3,5,6,4,5,6,2,3,4,1,1,1,2,3,4,5,5,7,8,8,9,9,9,1,1],\n",
    "                         'C':[1,1,1,1,1,1,2,2,2,2,2,2,2,3,3,3,3,3,3,3,1,1,1,2,2]})"
   ]
  },
  {
   "cell_type": "code",
   "execution_count": 112,
   "metadata": {},
   "outputs": [
    {
     "name": "stderr",
     "output_type": "stream",
     "text": [
      "C:\\Users\\David\\Anaconda3\\envs\\python3\\lib\\site-packages\\rpy2-2.9.4-py3.5-win-amd64.egg\\rpy2\\robjects\\pandas2ri.py:191: FutureWarning: from_items is deprecated. Please use DataFrame.from_dict(dict(items), ...) instead. DataFrame.from_dict(OrderedDict(items)) may be used to preserve the key order.\n",
      "  res = PandasDataFrame.from_items(items)\n"
     ]
    }
   ],
   "source": [
    "%%R -o model -o summary -i python_df2 \n",
    "model <-  lmer('A2 ~ B + (1|C)', data = python_df2)\n",
    "summary <- summary(model)"
   ]
  },
  {
   "cell_type": "code",
   "execution_count": 113,
   "metadata": {},
   "outputs": [
    {
     "name": "stdout",
     "output_type": "stream",
     "text": [
      "Linear mixed model fit by REML ['lmerMod']\n",
      "\r\n",
      "Formula: A2 ~ B + (1 | C)\n",
      "\r\n",
      "   Data: python_df2\n",
      "\r\n",
      "\n",
      "\r\n",
      "REML criterion at convergence: 116.5\n",
      "\r\n",
      "\n",
      "\r\n",
      "Scaled residuals: \n",
      "\r\n",
      "    Min      1Q  Median      3Q     Max \n",
      "\r\n",
      "-2.0514 -0.7173 -0.1104  0.7692  1.8306 \n",
      "\r\n",
      "\n",
      "\r\n",
      "Random effects:\n",
      "\r\n",
      " Groups   Name        Variance Std.Dev.\n",
      "\r\n",
      " C        (Intercept) 0.00     0.000   \n",
      "\r\n",
      " Residual             6.43     2.536   \n",
      "\r\n",
      "Number of obs: 25, groups:  C, 3\n",
      "\r\n",
      "\n",
      "\r\n",
      "Fixed effects:\n",
      "\r\n",
      "            Estimate Std. Error t value\n",
      "\r\n",
      "(Intercept)   3.1275     0.9906   3.157\n",
      "\r\n",
      "B             0.2305     0.1899   1.213\n",
      "\r\n",
      "\n",
      "\r\n",
      "Correlation of Fixed Effects:\n",
      "\r\n",
      "  (Intr)\n",
      "\r\n",
      "B -0.859\n",
      "\r\n",
      "convergence code: 0\n",
      "\r\n",
      "boundary (singular) fit: see ?isSingular\n",
      "\r\n",
      "\n",
      "\n"
     ]
    }
   ],
   "source": [
    "print(summary)"
   ]
  },
  {
   "cell_type": "code",
   "execution_count": 117,
   "metadata": {},
   "outputs": [
    {
     "name": "stderr",
     "output_type": "stream",
     "text": [
      "C:\\Users\\David\\Anaconda3\\envs\\python3\\lib\\site-packages\\statsmodels\\base\\model.py:508: ConvergenceWarning: Maximum Likelihood optimization failed to converge. Check mle_retvals\n",
      "  \"Check mle_retvals\", ConvergenceWarning)\n",
      "C:\\Users\\David\\Anaconda3\\envs\\python3\\lib\\site-packages\\statsmodels\\base\\model.py:508: ConvergenceWarning: Maximum Likelihood optimization failed to converge. Check mle_retvals\n",
      "  \"Check mle_retvals\", ConvergenceWarning)\n",
      "C:\\Users\\David\\Anaconda3\\envs\\python3\\lib\\site-packages\\statsmodels\\base\\model.py:508: ConvergenceWarning: Maximum Likelihood optimization failed to converge. Check mle_retvals\n",
      "  \"Check mle_retvals\", ConvergenceWarning)\n"
     ]
    },
    {
     "name": "stdout",
     "output_type": "stream",
     "text": [
      "        Mixed Linear Model Regression Results\n",
      "======================================================\n",
      "Model:            MixedLM Dependent Variable: A2      \n",
      "No. Observations: 25      Method:             REML    \n",
      "No. Groups:       3       Scale:              6.4277  \n",
      "Min. group size:  7       Likelihood:         -58.2390\n",
      "Max. group size:  9       Converged:          No      \n",
      "Mean group size:  8.3                                 \n",
      "-------------------------------------------------------\n",
      "              Coef.  Std.Err.  z  P>|z|  [0.025  0.975]\n",
      "-------------------------------------------------------\n",
      "Intercept     3.122                                    \n",
      "B             0.232                                    \n",
      "C Var         0.006                                    \n",
      "======================================================\n",
      "\n"
     ]
    },
    {
     "name": "stderr",
     "output_type": "stream",
     "text": [
      "C:\\Users\\David\\Anaconda3\\envs\\python3\\lib\\site-packages\\statsmodels\\base\\model.py:508: ConvergenceWarning: Maximum Likelihood optimization failed to converge. Check mle_retvals\n",
      "  \"Check mle_retvals\", ConvergenceWarning)\n",
      "C:\\Users\\David\\Anaconda3\\envs\\python3\\lib\\site-packages\\statsmodels\\base\\model.py:508: ConvergenceWarning: Maximum Likelihood optimization failed to converge. Check mle_retvals\n",
      "  \"Check mle_retvals\", ConvergenceWarning)\n",
      "C:\\Users\\David\\Anaconda3\\envs\\python3\\lib\\site-packages\\statsmodels\\regression\\mixed_linear_model.py:2026: ConvergenceWarning: Gradient optimization failed.\n",
      "  warnings.warn(msg, ConvergenceWarning)\n",
      "C:\\Users\\David\\Anaconda3\\envs\\python3\\lib\\site-packages\\statsmodels\\regression\\mixed_linear_model.py:2045: ConvergenceWarning: The MLE may be on the boundary of the parameter space.\n",
      "  warnings.warn(msg, ConvergenceWarning)\n",
      "C:\\Users\\David\\Anaconda3\\envs\\python3\\lib\\site-packages\\statsmodels\\regression\\mixed_linear_model.py:2421: RuntimeWarning: invalid value encountered in sqrt\n",
      "  sdf[0:self.k_fe, 1] = np.sqrt(np.diag(self.cov_params()[0:self.k_fe]))\n",
      "C:\\Users\\David\\Anaconda3\\envs\\python3\\lib\\site-packages\\scipy\\stats\\_distn_infrastructure.py:879: RuntimeWarning: invalid value encountered in greater\n",
      "  return (self.a < x) & (x < self.b)\n",
      "C:\\Users\\David\\Anaconda3\\envs\\python3\\lib\\site-packages\\scipy\\stats\\_distn_infrastructure.py:879: RuntimeWarning: invalid value encountered in less\n",
      "  return (self.a < x) & (x < self.b)\n",
      "C:\\Users\\David\\Anaconda3\\envs\\python3\\lib\\site-packages\\scipy\\stats\\_distn_infrastructure.py:1738: RuntimeWarning: invalid value encountered in greater_equal\n",
      "  cond2 = (x >= self.b) & cond0\n",
      "C:\\Users\\David\\Anaconda3\\envs\\python3\\lib\\site-packages\\statsmodels\\base\\model.py:1092: RuntimeWarning: invalid value encountered in sqrt\n",
      "  bse_ = np.sqrt(np.diag(self.cov_params()))\n"
     ]
    }
   ],
   "source": [
    "import statsmodels.formula.api as smf\n",
    "md = smf.mixedlm(\"A2~B\", python_df2, groups='C')\n",
    "mdf = md.fit()\n",
    "print(mdf.summary())\n"
   ]
  },
  {
   "cell_type": "markdown",
   "metadata": {},
   "source": [
    "## Mixed logistic model\n"
   ]
  },
  {
   "cell_type": "code",
   "execution_count": 105,
   "metadata": {},
   "outputs": [],
   "source": [
    "%%R -o model -o summary -i python_df2 \n",
    "model <-  glmer('A ~ B + (1 | C)', data = python_df2, family = 'binomial', control = glmerControl(optimizer = \"bobyqa\"), nAGQ = 10)\n",
    "summary <- summary(model)"
   ]
  },
  {
   "cell_type": "code",
   "execution_count": 106,
   "metadata": {},
   "outputs": [
    {
     "name": "stdout",
     "output_type": "stream",
     "text": [
      "Generalized linear mixed model fit by maximum likelihood (Adaptive\n",
      "\r\n",
      "  Gauss-Hermite Quadrature, nAGQ = 10) [glmerMod]\n",
      "\r\n",
      " Family: binomial  ( logit )\n",
      "\r\n",
      "Formula: A ~ B + (1 | C)\n",
      "\r\n",
      "   Data: python_df2\n",
      "\r\n",
      "Control: glmerControl(optimizer = \"bobyqa\")\n",
      "\r\n",
      "\n",
      "\r\n",
      "     AIC      BIC   logLik deviance df.resid \n",
      "\r\n",
      "    38.3     41.9    -16.1     32.3       22 \n",
      "\r\n",
      "\n",
      "\r\n",
      "Scaled residuals: \n",
      "\r\n",
      "    Min      1Q  Median      3Q     Max \n",
      "\r\n",
      "-1.9027 -0.9672  0.5256  0.8252  1.2955 \n",
      "\r\n",
      "\n",
      "\r\n",
      "Random effects:\n",
      "\r\n",
      " Groups Name        Variance Std.Dev.\n",
      "\r\n",
      " C      (Intercept) 0        0       \n",
      "\r\n",
      "Number of obs: 25, groups:  C, 3\n",
      "\r\n",
      "\n",
      "\r\n",
      "Fixed effects:\n",
      "\r\n",
      "            Estimate Std. Error z value Pr(>|z|)\n",
      "\r\n",
      "(Intercept)  -0.7434     0.8178  -0.909    0.363\n",
      "\r\n",
      "B             0.2255     0.1657   1.361    0.173\n",
      "\r\n",
      "\n",
      "\r\n",
      "Correlation of Fixed Effects:\n",
      "\r\n",
      "  (Intr)\n",
      "\r\n",
      "B -0.858\n",
      "\r\n",
      "convergence code: 0\n",
      "\r\n",
      "boundary (singular) fit: see ?isSingular\n",
      "\r\n",
      "\n",
      "\n"
     ]
    }
   ],
   "source": [
    "print(summary)"
   ]
  },
  {
   "cell_type": "code",
   "execution_count": null,
   "metadata": {},
   "outputs": [],
   "source": []
  }
 ],
 "metadata": {
  "kernelspec": {
   "display_name": "Python 3",
   "language": "python",
   "name": "python3"
  },
  "language_info": {
   "codemirror_mode": {
    "name": "ipython",
    "version": 3
   },
   "file_extension": ".py",
   "mimetype": "text/x-python",
   "name": "python",
   "nbconvert_exporter": "python",
   "pygments_lexer": "ipython3",
   "version": "3.5.6"
  }
 },
 "nbformat": 4,
 "nbformat_minor": 2
}
